{
 "cells": [
  {
   "cell_type": "code",
   "execution_count": 38,
   "id": "compatible-agenda",
   "metadata": {
    "scrolled": true
   },
   "outputs": [
    {
     "name": "stdout",
     "output_type": "stream",
     "text": [
      "i|    xi-1        xi        f(xi-1)        f(xi)        f(xi-1 - xi)        xi+1        error    \n",
      "1     0.0000     1.0000     1.0000        -0.6321         -1.0000         0.6127          0.6321 %\n",
      "2     1.0000     0.6127     -0.6321        0.0743         0.3873         0.6535          0.0624 %\n"
     ]
    }
   ],
   "source": [
    "### METODO DE LA SECANTE\n",
    "import math\n",
    "def funcion (x):\n",
    "    return (math.pow (2.718, -(math.pow(x,2)))-x);\n",
    "\n",
    "x0=0\n",
    "x1=1\n",
    "i=1\n",
    "print(\"i|    \"\"xi-1        \" \"xi        \" \"f(xi-1)        \" \"f(xi)        \" \"f(xi-1 - xi)        \" \"xi+1        \" \"error    \")\n",
    "\n",
    "while True:\n",
    "    fx0=funcion(x0)\n",
    "    fx1=funcion(x1)\n",
    "    fx0menosx1=x0-x1\n",
    "    fx2=(x0-(fx0*(x1-x0))/(fx1-fx0))\n",
    "    error=abs((fx2-x1)/fx2)#funcion abs = valor absoluto\n",
    "    print(i,\"    \"\"{:.4f}\".format(x0),\"    \"\"{:.4f}\".format(x1),\"    \"\"{:.4f}\".format(fx0),\"       \"\"{:.4f}\".format(fx1),\"        \"\"{:.4f}\".format(fx0menosx1),\"        \"\"{:.4f}\".format(fx2),\"         \"\"{:.4f}\".format(error),\"%\")\n",
    "    if i>10 or error<=0.08: #defino la cantidad de iteraciones y la cota de error\n",
    "        break\n",
    "    x0=x1\n",
    "    x1=fx2\n",
    "    i=i+1"
   ]
  },
  {
   "cell_type": "code",
   "execution_count": 39,
   "id": "complex-specialist",
   "metadata": {
    "scrolled": false
   },
   "outputs": [
    {
     "name": "stdout",
     "output_type": "stream",
     "text": [
      "i|    xi        Fxi        f´xi            xi+1           error        \n",
      "1     0.0000     1.0000     -2.0000        0.5000         1.0000\n",
      "2     0.5000     0.1066     -1.6066        0.5663         0.1171\n",
      "3     0.5663     0.0013     -1.5676        0.5672         0.0015\n"
     ]
    }
   ],
   "source": [
    "### METODO NEWTON\n",
    "import math\n",
    "def funcion (x):\n",
    "    return math.pow (2.718, -x)-x;\n",
    "def funcion2 (x):\n",
    "    return -(math.pow (2.718, -x))-1;\n",
    "x0=0\n",
    "x1=0\n",
    "i=1\n",
    "print(\"i|    \"\"xi        \" \"Fxi        \" \"f´xi            \" \"xi+1           \" \"error        \")\n",
    "while True:\n",
    "    fxi=funcion(x0)\n",
    "    finvxi=funcion2(x0)#funcion inversa\n",
    "    ximas1=x0-(fxi/finvxi)\n",
    "    error=abs((ximas1-x0)/ximas1)\n",
    "    print(i,\"    \"\"{:.4f}\".format(x0),\"    \"\"{:.4f}\".format(fxi),\"    \"\"{:.4f}\".format(finvxi),\"       \"\"{:.4f}\".format(ximas1),\"        \"\"{:.4f}\".format(error))\n",
    "    if i>10 or error<=0.01: #defino la cantidad de iteraciones y la cota de error\n",
    "        break\n",
    "    x0=ximas1\n",
    "    i=i+1"
   ]
  },
  {
   "cell_type": "code",
   "execution_count": 43,
   "id": "efficient-timeline",
   "metadata": {},
   "outputs": [
    {
     "name": "stdout",
     "output_type": "stream",
     "text": [
      "i|    xi        xi+1-gx        fx           error        \n",
      "0     0.0000     1.0000     -0.6321         1.0000\n",
      "1     1.0000     0.3679     0.3243         1.7180\n",
      "2     0.3679     0.6922     -0.1917         0.4685\n",
      "3     0.6922     0.5005     0.1057         0.3830\n",
      "4     0.5005     0.6063     -0.0608         0.1744\n",
      "5     0.6063     0.5454     0.0342         0.1115\n",
      "6     0.5454     0.5796     -0.0195         0.0590\n",
      "7     0.5796     0.5601     0.0110         0.0348\n",
      "8     0.5601     0.5712     -0.0063         0.0193\n",
      "9     0.5712     0.5649     0.0035         0.0111\n",
      "10     0.5649     0.5684     -0.0020         0.0062\n"
     ]
    }
   ],
   "source": [
    "### Metodo punto fijo\n",
    "\n",
    "import math\n",
    "def funcion (x):\n",
    "    return math.pow (2.718, -x)-x;\n",
    "\n",
    "def funcion2 (x):\n",
    "    return math.pow (2.718, -x);\n",
    "\n",
    "x0=0\n",
    "i=0\n",
    "print(\"i|    \"\"xi        \" \"xi+1-gx        \" \"fx           \" \"error        \")\n",
    "\n",
    "while True:\n",
    "    gx=funcion2(x0)\n",
    "    fx=funcion(gx)\n",
    "    error=abs((gx-x0)/gx)\n",
    "    print(i,\"    \"\"{:.4f}\".format(x0),\"    \"\"{:.4f}\".format(gx),\"    \"\"{:.4f}\".format(fx),\"       \",\"{:.4f}\".format(error))\n",
    "    if i>10 or error<=0.01: #defino la cantidad de iteraciones y la cota de error\n",
    "        break\n",
    "        \n",
    "    x0=gx\n",
    "    i=i+1"
   ]
  },
  {
   "cell_type": "code",
   "execution_count": 50,
   "id": "australian-fusion",
   "metadata": {},
   "outputs": [
    {
     "name": "stdout",
     "output_type": "stream",
     "text": [
      "i|    xi        xs        xr        fxi        fxr        1x2        error        \n",
      "1     1.0000     2.0000     1.5000         -5.0000     2.3750     -11.8750     1.0000\n",
      "2     1.0000     1.5000     1.2500         -5.0000     -1.7969     8.9844     0.2000\n",
      "3     1.2500     1.5000     1.3750         -1.7969     0.1621     -0.2913     0.0909\n",
      "4     1.2500     1.3750     1.3125         -1.7969     -0.8484     1.5244     0.0476\n",
      "5     1.3125     1.3750     1.3438         -0.8484     -0.3510     0.2978     0.0233\n",
      "6     1.3438     1.3750     1.3594         -0.3510     -0.0964     0.0338     0.0115\n",
      "7     1.3594     1.3750     1.3672         -0.0964     0.0324     -0.0031     0.0057\n"
     ]
    }
   ],
   "source": [
    "### Metodo biseccion \n",
    "\n",
    "import math\n",
    "def funcion (x):\n",
    "    return x**3 + 4*x**2-10\n",
    "xi=1\n",
    "xs=2\n",
    "i=0\n",
    "error=1\n",
    "xranterior=0\n",
    "print(\"i|    \"\"xi        \" \"xs        \" \"xr        \" \"fxi        \"\"fxr        \"\"1x2        \"\"error        \")\n",
    "while error > 0.01 and i < maxiteraciones:\n",
    "    xr = (xi + xs) / 2\n",
    "    fxi = funcion(xi)\n",
    "    fxr = funcion(xr)\n",
    "    comp = fxi * fxr\n",
    "    error = (xr-xranterior)/xr\n",
    "    xranterior = xr\n",
    "    if error < 0:\n",
    "        error = error*(-1)\n",
    "    i += 1\n",
    "    print(i,\"    \"\"{:.4f}\".format(xi),\"    \"\"{:.4f}\".format(xs),\"    \"\"{:.4f}\".format(xr),\"       \",\"{:.4f}\".format(fxi),\"    \"\"{:.4f}\".format(fxr),\"    \"\"{:.4f}\".format(comp),\"    \"\"{:.4f}\".format(error))\n",
    "    if comp < 0:\n",
    "        xs = xr\n",
    "    elif comp > 0:\n",
    "        xi = xr"
   ]
  },
  {
   "cell_type": "code",
   "execution_count": null,
   "id": "complicated-curve",
   "metadata": {},
   "outputs": [],
   "source": []
  },
  {
   "cell_type": "code",
   "execution_count": null,
   "id": "breeding-psychology",
   "metadata": {},
   "outputs": [],
   "source": []
  }
 ],
 "metadata": {
  "kernelspec": {
   "display_name": "Python 3",
   "language": "python",
   "name": "python3"
  },
  "language_info": {
   "codemirror_mode": {
    "name": "ipython",
    "version": 3
   },
   "file_extension": ".py",
   "mimetype": "text/x-python",
   "name": "python",
   "nbconvert_exporter": "python",
   "pygments_lexer": "ipython3",
   "version": "3.8.5"
  }
 },
 "nbformat": 4,
 "nbformat_minor": 5
}
